{
 "cells": [
  {
   "cell_type": "markdown",
   "metadata": {},
   "source": [
    "# Image Classifer Model Using CNN"
   ]
  },
  {
   "cell_type": "code",
   "execution_count": 2,
   "metadata": {},
   "outputs": [
    {
     "name": "stderr",
     "output_type": "stream",
     "text": [
      "C:\\Users\\ADMIN\\anaconda3\\envs\\Tensorflow\\lib\\importlib\\_bootstrap.py:219: RuntimeWarning: numpy.ufunc size changed, may indicate binary incompatibility. Expected 192 from C header, got 216 from PyObject\n",
      "  return f(*args, **kwds)\n"
     ]
    }
   ],
   "source": [
    "#importing libraries\n",
    "\n",
    "import numpy as np\n",
    "import pandas as pd \n",
    "import matplotlib.pyplot as plt \n",
    "%matplotlib inline"
   ]
  },
  {
   "cell_type": "code",
   "execution_count": 3,
   "metadata": {},
   "outputs": [],
   "source": [
    "import tensorflow as tf\n",
    "from tensorflow import keras "
   ]
  },
  {
   "cell_type": "code",
   "execution_count": 5,
   "metadata": {},
   "outputs": [],
   "source": [
    "fashion_mnist=keras.datasets.fashion_mnist\n",
    "\n",
    "(x_train , y_train) , (x_test , y_test)=fashion_mnist.load_data()"
   ]
  },
  {
   "cell_type": "code",
   "execution_count": 6,
   "metadata": {},
   "outputs": [],
   "source": [
    "class_names = ['T-shirt/top' , 'Trousar' , 'Pullover' , 'Dress' , 'Coat',\n",
    "               'Sandal' , 'Shirt' ,'Sneaker' , 'Bag' , 'Ankle Boot']"
   ]
  },
  {
   "cell_type": "code",
   "execution_count": 7,
   "metadata": {},
   "outputs": [],
   "source": [
    "#reshaping as we req 3d data in CNN \n",
    "x_train=x_train.reshape((60000,28,28,1))\n",
    "x_test=x_test.reshape((10000,28,28,1))"
   ]
  },
  {
   "cell_type": "code",
   "execution_count": 8,
   "metadata": {},
   "outputs": [],
   "source": [
    "#Data Normalization \n",
    "\n",
    "x_train_n=x_train/255\n",
    "x_test_n=x_test/255"
   ]
  },
  {
   "cell_type": "markdown",
   "metadata": {},
   "source": [
    "# Spliting the Data \n",
    "\n",
    "train data\n",
    "\n",
    "validation data \n",
    "\n",
    "test data "
   ]
  },
  {
   "cell_type": "code",
   "execution_count": 9,
   "metadata": {},
   "outputs": [],
   "source": [
    "x_valid ,x_train=x_train_n[:5000] ,x_train_n[5000:]\n",
    "y_valid , y_train=y_train[:5000] , y_train[5000:]\n",
    "x_test=x_test_n"
   ]
  },
  {
   "cell_type": "markdown",
   "metadata": {},
   "source": [
    "# Creat the model Architecture"
   ]
  },
  {
   "cell_type": "code",
   "execution_count": 10,
   "metadata": {},
   "outputs": [],
   "source": [
    "np.random.seed(42)\n",
    "tf.random.set_seed(42)"
   ]
  },
  {
   "cell_type": "code",
   "execution_count": 11,
   "metadata": {},
   "outputs": [],
   "source": [
    "model = keras.models.Sequential()\n",
    "\n",
    "#convolution layer\n",
    "model.add(keras.layers.Conv2D(filters= 32 , kernel_size =(3,3) , strides = 1 , \n",
    "                              padding ='valid',activation='relu', input_shape = (28,28,1)))\n",
    "#pooling layer\n",
    "model.add(keras.layers.MaxPooling2D((2,2)))\n",
    "\n",
    "#flatenning layer\n",
    "model.add(keras.layers.Flatten())\n",
    "#dese layer 1\n",
    "model.add(keras.layers.Dense(300 , activation ='relu'))\n",
    "#dense layer 2\n",
    "model.add(keras.layers.Dense(100 , activation = 'relu'))\n",
    "#output layer \n",
    "model.add(keras.layers.Dense(10 , activation = 'softmax'))"
   ]
  },
  {
   "cell_type": "code",
   "execution_count": 13,
   "metadata": {},
   "outputs": [
    {
     "name": "stdout",
     "output_type": "stream",
     "text": [
      "Model: \"sequential\"\n",
      "_________________________________________________________________\n",
      "Layer (type)                 Output Shape              Param #   \n",
      "=================================================================\n",
      "conv2d (Conv2D)              (None, 26, 26, 32)        320       \n",
      "_________________________________________________________________\n",
      "max_pooling2d (MaxPooling2D) (None, 13, 13, 32)        0         \n",
      "_________________________________________________________________\n",
      "flatten (Flatten)            (None, 5408)              0         \n",
      "_________________________________________________________________\n",
      "dense (Dense)                (None, 300)               1622700   \n",
      "_________________________________________________________________\n",
      "dense_1 (Dense)              (None, 100)               30100     \n",
      "_________________________________________________________________\n",
      "dense_2 (Dense)              (None, 10)                1010      \n",
      "=================================================================\n",
      "Total params: 1,654,130\n",
      "Trainable params: 1,654,130\n",
      "Non-trainable params: 0\n",
      "_________________________________________________________________\n"
     ]
    }
   ],
   "source": [
    "model.summary()"
   ]
  },
  {
   "cell_type": "code",
   "execution_count": 14,
   "metadata": {},
   "outputs": [
    {
     "data": {
      "image/png": "[encoded data removed]",
      "text/plain": [
       "<IPython.core.display.Image object>"
      ]
     },
     "execution_count": 14,
     "metadata": {},
     "output_type": "execute_result"
    }
   ],
   "source": [
    "import pydot\n",
    "keras.utils.plot_model(model)"
   ]
  },
  {
   "cell_type": "code",
   "execution_count": 15,
   "metadata": {},
   "outputs": [],
   "source": [
    "model.compile(loss = 'sparse_categorical_crossentropy' , \n",
    "             optimizer = 'sgd',\n",
    "             metrics =['accuracy'])"
   ]
  },
  {
   "cell_type": "code",
   "execution_count": 16,
   "metadata": {},
   "outputs": [
    {
     "name": "stdout",
     "output_type": "stream",
     "text": [
      "Train on 55000 samples, validate on 5000 samples\n",
      "Epoch 1/10\n",
      "55000/55000 [==============================] - 23s 422us/sample - loss: 0.8754 - accuracy: 0.7047 - val_loss: 0.5981 - val_accuracy: 0.7790\n",
      "Epoch 2/10\n",
      "55000/55000 [==============================] - 23s 426us/sample - loss: 0.5385 - accuracy: 0.8050 - val_loss: 0.5430 - val_accuracy: 0.8032\n",
      "Epoch 3/10\n",
      "55000/55000 [==============================] - 25s 462us/sample - loss: 0.4801 - accuracy: 0.8276 - val_loss: 0.5660 - val_accuracy: 0.8120\n",
      "Epoch 4/10\n",
      "55000/55000 [==============================] - 24s 440us/sample - loss: 0.4435 - accuracy: 0.8409 - val_loss: 0.4583 - val_accuracy: 0.8386\n",
      "Epoch 5/10\n",
      "55000/55000 [==============================] - 23s 421us/sample - loss: 0.4164 - accuracy: 0.8513 - val_loss: 0.4419 - val_accuracy: 0.8360\n",
      "Epoch 6/10\n",
      "55000/55000 [==============================] - 23s 412us/sample - loss: 0.3976 - accuracy: 0.8576 - val_loss: 0.4223 - val_accuracy: 0.8434\n",
      "Epoch 7/10\n",
      "55000/55000 [==============================] - 22s 402us/sample - loss: 0.3794 - accuracy: 0.8653 - val_loss: 0.3992 - val_accuracy: 0.8576\n",
      "Epoch 8/10\n",
      "55000/55000 [==============================] - 25s 448us/sample - loss: 0.3631 - accuracy: 0.8693 - val_loss: 0.3607 - val_accuracy: 0.8730\n",
      "Epoch 9/10\n",
      "55000/55000 [==============================] - 29s 526us/sample - loss: 0.3497 - accuracy: 0.8729 - val_loss: 0.3475 - val_accuracy: 0.8804\n",
      "Epoch 10/10\n",
      "55000/55000 [==============================] - 30s 551us/sample - loss: 0.3377 - accuracy: 0.8778 - val_loss: 0.3381 - val_accuracy: 0.8846\n"
     ]
    }
   ],
   "source": [
    "model_fit= model.fit(x_train , y_train , epochs =10 , batch_size = 64,\n",
    "                         validation_data = (x_valid , y_valid))"
   ]
  },
  {
   "cell_type": "code",
   "execution_count": 18,
   "metadata": {},
   "outputs": [
    {
     "data": {
      "image/png": "[encoded data removed]",
      "text/plain": [
       "<Figure size 720x360 with 1 Axes>"
      ]
     },
     "metadata": {
      "needs_background": "light"
     },
     "output_type": "display_data"
    }
   ],
   "source": [
    "#ploting \n",
    "\n",
    "pd.DataFrame(model_fit.history).plot(figsize=(10,5))\n",
    "plt.grid(True)\n",
    "plt.gca().set_ylim(0,1)\n",
    "plt.show()\n",
    "\n"
   ]
  },
  {
   "cell_type": "code",
   "execution_count": 19,
   "metadata": {},
   "outputs": [
    {
     "name": "stdout",
     "output_type": "stream",
     "text": [
      "10000/10000 [==============================] - 2s 177us/sample - loss: 0.3644 - accuracy: 0.8699\n"
     ]
    }
   ],
   "source": [
    "#testing model \n",
    "evl=model.evaluate(x_test,y_test)"
   ]
  },
  {
   "cell_type": "code",
   "execution_count": 20,
   "metadata": {},
   "outputs": [
    {
     "data": {
      "text/plain": [
       "[0.3644242218732834, 0.8699]"
      ]
     },
     "execution_count": 20,
     "metadata": {},
     "output_type": "execute_result"
    }
   ],
   "source": [
    "evl"
   ]
  },
  {
   "cell_type": "code",
   "execution_count": 21,
   "metadata": {},
   "outputs": [],
   "source": [
    "x_new=x_train[:6]\n"
   ]
  },
  {
   "cell_type": "code",
   "execution_count": 24,
   "metadata": {},
   "outputs": [
    {
     "data": {
      "text/plain": [
       "array([4, 0, 7, 9, 9, 9], dtype=int64)"
      ]
     },
     "execution_count": 24,
     "metadata": {},
     "output_type": "execute_result"
    }
   ],
   "source": [
    "#predicing model \n",
    "y_pred=model.predict_classes(x_new)\n",
    "y_pred"
   ]
  },
  {
   "cell_type": "code",
   "execution_count": 25,
   "metadata": {},
   "outputs": [
    {
     "data": {
      "text/plain": [
       "array(['Coat', 'T-shirt/top', 'Sneaker', 'Ankle Boot', 'Ankle Boot',\n",
       "       'Ankle Boot'], dtype='<U11')"
      ]
     },
     "execution_count": 25,
     "metadata": {},
     "output_type": "execute_result"
    }
   ],
   "source": [
    "np.array(class_names)[y_pred]"
   ]
  },
  {
   "cell_type": "code",
   "execution_count": 26,
   "metadata": {},
   "outputs": [
    {
     "data": {
      "text/plain": [
       "<matplotlib.image.AxesImage at 0x1c0469338c8>"
      ]
     },
     "execution_count": 26,
     "metadata": {},
     "output_type": "execute_result"
    },
    {
     "data": {
      "image/png": "[encoded data removed]",
      "text/plain": [
       "<Figure size 432x288 with 1 Axes>"
      ]
     },
     "metadata": {
      "needs_background": "light"
     },
     "output_type": "display_data"
    }
   ],
   "source": [
    "plt.imshow(x_new[0])"
   ]
  },
  {
   "cell_type": "code",
   "execution_count": 28,
   "metadata": {},
   "outputs": [
    {
     "name": "stdout",
     "output_type": "stream",
     "text": [
      "AxesImage(54,36;334.8x217.44)\n"
     ]
    },
    {
     "data": {
      "image/png": "[encoded data removed]",
      "text/plain": [
       "<Figure size 432x288 with 1 Axes>"
      ]
     },
     "metadata": {
      "needs_background": "light"
     },
     "output_type": "display_data"
    }
   ],
   "source": [
    "print(plt.imshow(x_new[0].reshape((28,28))))"
   ]
  },
  {
   "cell_type": "markdown",
   "metadata": {},
   "source": [
    "# importance of Pooling layer \n",
    "\n",
    "# poolinglayer vs No poolinglayer"
   ]
  },
  {
   "cell_type": "code",
   "execution_count": 36,
   "metadata": {},
   "outputs": [],
   "source": [
    "#model with pooling layer \n",
    "\n",
    "modelA= keras.models.Sequential()\n",
    "modelA.add(keras.layers.Conv2D(filters= 32 , kernel_size =(3,3) , strides = 1 , \n",
    "                              padding ='valid',activation='relu', input_shape = (28,28,1)))\n",
    "modelA.add(keras.layers.MaxPooling2D((2,2)))\n",
    "modelA.add(keras.layers.Flatten())\n",
    "modelA.add(keras.layers.Dense(300 , activation ='relu'))\n",
    "modelA.add(keras.layers.Dense(100 , activation = 'relu'))\n",
    "modelA.add(keras.layers.Dense(10 , activation = 'softmax'))"
   ]
  },
  {
   "cell_type": "code",
   "execution_count": 33,
   "metadata": {},
   "outputs": [],
   "source": [
    "#Model without Pooling layer \n",
    "modelB= keras.models.Sequential()\n",
    "modelB.add(keras.layers.Conv2D(filters= 32 , kernel_size =(3,3) , strides = 1 , \n",
    "                              padding ='valid',activation='relu', input_shape = (28,28,1)))\n",
    "modelB.add(keras.layers.Flatten())\n",
    "modelB.add(keras.layers.Dense(300 , activation ='relu'))\n",
    "modelB.add(keras.layers.Dense(100 , activation = 'relu'))\n",
    "modelB.add(keras.layers.Dense(10 , activation = 'softmax'))"
   ]
  },
  {
   "cell_type": "code",
   "execution_count": 37,
   "metadata": {},
   "outputs": [
    {
     "name": "stdout",
     "output_type": "stream",
     "text": [
      "Model: \"sequential_2\"\n",
      "_________________________________________________________________\n",
      "Layer (type)                 Output Shape              Param #   \n",
      "=================================================================\n",
      "conv2d_2 (Conv2D)            (None, 26, 26, 32)        320       \n",
      "_________________________________________________________________\n",
      "max_pooling2d_1 (MaxPooling2 (None, 13, 13, 32)        0         \n",
      "_________________________________________________________________\n",
      "flatten_2 (Flatten)          (None, 5408)              0         \n",
      "_________________________________________________________________\n",
      "dense_6 (Dense)              (None, 300)               1622700   \n",
      "_________________________________________________________________\n",
      "dense_7 (Dense)              (None, 100)               30100     \n",
      "_________________________________________________________________\n",
      "dense_8 (Dense)              (None, 10)                1010      \n",
      "=================================================================\n",
      "Total params: 1,654,130\n",
      "Trainable params: 1,654,130\n",
      "Non-trainable params: 0\n",
      "_________________________________________________________________\n"
     ]
    }
   ],
   "source": [
    "modelA.summary()"
   ]
  },
  {
   "cell_type": "code",
   "execution_count": 38,
   "metadata": {},
   "outputs": [
    {
     "name": "stdout",
     "output_type": "stream",
     "text": [
      "Model: \"sequential_1\"\n",
      "_________________________________________________________________\n",
      "Layer (type)                 Output Shape              Param #   \n",
      "=================================================================\n",
      "conv2d_1 (Conv2D)            (None, 26, 26, 32)        320       \n",
      "_________________________________________________________________\n",
      "flatten_1 (Flatten)          (None, 21632)             0         \n",
      "_________________________________________________________________\n",
      "dense_3 (Dense)              (None, 300)               6489900   \n",
      "_________________________________________________________________\n",
      "dense_4 (Dense)              (None, 100)               30100     \n",
      "_________________________________________________________________\n",
      "dense_5 (Dense)              (None, 10)                1010      \n",
      "=================================================================\n",
      "Total params: 6,521,330\n",
      "Trainable params: 6,521,330\n",
      "Non-trainable params: 0\n",
      "_________________________________________________________________\n"
     ]
    }
   ],
   "source": [
    "modelB.summary()"
   ]
  },
  {
   "cell_type": "code",
   "execution_count": 39,
   "metadata": {},
   "outputs": [],
   "source": [
    "modelA.compile(loss = 'sparse_categorical_crossentropy',\n",
    "               optimizer = 'sgd',\n",
    "               metrics = ['accuracy'])\n",
    "\n",
    "modelB.compile(loss = 'sparse_categorical_crossentropy',\n",
    "               optimizer = 'sgd',\n",
    "               metrics = ['accuracy'])"
   ]
  },
  {
   "cell_type": "code",
   "execution_count": 40,
   "metadata": {},
   "outputs": [
    {
     "name": "stdout",
     "output_type": "stream",
     "text": [
      "Train on 55000 samples, validate on 5000 samples\n",
      "Epoch 1/3\n",
      "55000/55000 [==============================] - 25s 452us/sample - loss: 0.8518 - accuracy: 0.7073 - val_loss: 0.5977 - val_accuracy: 0.7812\n",
      "Epoch 2/3\n",
      "55000/55000 [==============================] - 24s 440us/sample - loss: 0.5308 - accuracy: 0.8084 - val_loss: 0.5432 - val_accuracy: 0.8044\n",
      "Epoch 3/3\n",
      "55000/55000 [==============================] - 25s 446us/sample - loss: 0.4734 - accuracy: 0.8310 - val_loss: 0.5069 - val_accuracy: 0.8186\n"
     ]
    }
   ],
   "source": [
    "model_fit_A = modelA.fit(x_train , y_train , epochs=3 , batch_size=64,\n",
    "                             validation_data=(x_valid , y_valid))"
   ]
  },
  {
   "cell_type": "code",
   "execution_count": 41,
   "metadata": {},
   "outputs": [
    {
     "name": "stdout",
     "output_type": "stream",
     "text": [
      "Train on 55000 samples, validate on 5000 samples\n",
      "Epoch 1/3\n",
      "55000/55000 [==============================] - 52s 949us/sample - loss: 0.7135 - accuracy: 0.7547 - val_loss: 0.5479 - val_accuracy: 0.7986\n",
      "Epoch 2/3\n",
      "55000/55000 [==============================] - 50s 918us/sample - loss: 0.4874 - accuracy: 0.8227 - val_loss: 0.4974 - val_accuracy: 0.8170\n",
      "Epoch 3/3\n",
      "55000/55000 [==============================] - 49s 890us/sample - loss: 0.4378 - accuracy: 0.8418 - val_loss: 0.4914 - val_accuracy: 0.8324\n"
     ]
    }
   ],
   "source": [
    "model_fit_B= modelB.fit(x_train , y_train , epochs=3 , batch_size=64,\n",
    "                             validation_data=(x_valid , y_valid))"
   ]
  },
  {
   "cell_type": "markdown",
   "metadata": {},
   "source": [
    "# END"
   ]
  }
 ],
 "metadata": {
  "kernelspec": {
   "display_name": "Python 3",
   "language": "python",
   "name": "python3"
  },
  "language_info": {
   "codemirror_mode": {
    "name": "ipython",
    "version": 3
   },
   "file_extension": ".py",
   "mimetype": "text/x-python",
   "name": "python",
   "nbconvert_exporter": "python",
   "pygments_lexer": "ipython3",
   "version": "3.8.3"
  }
 },
 "nbformat": 4,
 "nbformat_minor": 4
}
